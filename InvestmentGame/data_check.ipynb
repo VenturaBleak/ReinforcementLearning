{
 "cells": [
  {
   "cell_type": "code",
   "execution_count": 7,
   "outputs": [],
   "source": [
    "import pandas as pd\n",
    "import numpy as np\n",
    "import os"
   ],
   "metadata": {
    "collapsed": false
   }
  },
  {
   "cell_type": "code",
   "execution_count": 8,
   "outputs": [],
   "source": [
    "period_length = 252"
   ],
   "metadata": {
    "collapsed": false
   }
  },
  {
   "cell_type": "code",
   "execution_count": 9,
   "outputs": [],
   "source": [
    "table = pd.read_html('https://en.wikipedia.org/wiki/List_of_S%26P_500_companies')\n",
    "df = table[0]\n",
    "tickers = df['Symbol'].tolist()"
   ],
   "metadata": {
    "collapsed": false
   }
  },
  {
   "cell_type": "code",
   "execution_count": 10,
   "outputs": [],
   "source": [
    "# Constants\n",
    "DATE_REF_TICKER = \"IBM\"  # Ticker that serves as the date reference\n",
    "\n",
    "# Load the IBM data as it's our date reference\n",
    "ref_df = pd.read_csv(os.path.join(\"data\", f\"{DATE_REF_TICKER}.csv\"), index_col=\"Date\", parse_dates=True)\n",
    "ref_df[\"Ticker\"] = DATE_REF_TICKER\n",
    "ref_df = ref_df[[\"Ticker\", \"Adj Close\", \"Volume\"]]\n",
    "ref_df.rename(columns={\"Adj Close\": \"Price\"}, inplace=True)\n",
    "\n",
    "# Use the ref_df dataframe to reindex other stock dataframes to match its date range\n",
    "reindexer = pd.DataFrame(index=ref_df.index)\n",
    "\n",
    "# Create a container to store the dataframes\n",
    "all_data = [ref_df]\n",
    "\n",
    "# Load the Fed rate data and reindex it to match the date reference\n",
    "fund_rates = pd.read_csv(os.path.join(\"data\", \"fed_funds_rate.csv\"), index_col=\"Date\", parse_dates=True)\n",
    "fund_rates = reindexer.merge(fund_rates, left_index=True, right_index=True, how='left')\n",
    "fund_rates[\"Ticker\"] = \"FED\"\n",
    "fund_rates.rename(columns={\"Value\": \"Price\"}, inplace=True)\n",
    "fund_rates[\"Volume\"] = 0\n",
    "fund_rates[\"Price\"] = (1 + fund_rates[\"Price\"] / 100) ** (1 / 252) - 1\n",
    "all_data.append(fund_rates)\n",
    "\n",
    "# Get the list of tickers\n",
    "valid_tickers = tickers.copy()\n",
    "\n",
    "for ticker in tickers:\n",
    "    # Avoid double counting\n",
    "    if ticker == DATE_REF_TICKER:\n",
    "        continue\n",
    "\n",
    "    try:\n",
    "        df = pd.read_csv(os.path.join(\"data\", f\"{ticker}.csv\"), index_col=\"Date\", parse_dates=True)\n",
    "        df[\"Ticker\"] = ticker\n",
    "        df = df[[\"Ticker\", \"Adj Close\", \"Volume\"]]\n",
    "        df.rename(columns={\"Adj Close\": \"Price\"}, inplace=True)\n",
    "\n",
    "        # Skip tickers with all NaN values in the \"Price\" column\n",
    "        if df[\"Price\"].isna().all():\n",
    "            valid_tickers.remove(ticker)\n",
    "            continue\n",
    "\n",
    "        # Reindex the dataframe to match the date range in ref_df\n",
    "        df = reindexer.merge(df, left_index=True, right_index=True, how='left')\n",
    "        df[\"Ticker\"].fillna(ticker, inplace=True)\n",
    "\n",
    "        all_data.append(df)\n",
    "    except FileNotFoundError:\n",
    "        pass\n",
    "\n",
    "# Concatenate the dataframes in all_data\n",
    "merged_data = pd.concat(all_data)\n",
    "\n",
    "# Assert the length of merged_data is as expected\n",
    "assert len(merged_data) == (len(valid_tickers) + 1) * len(ref_df)"
   ],
   "metadata": {
    "collapsed": false
   }
  },
  {
   "cell_type": "code",
   "execution_count": 12,
   "outputs": [
    {
     "data": {
      "text/plain": "array(['IBM', 'FED', 'MMM', 'AOS', 'ABT', 'ABBV', 'ACN', 'ATVI', 'ADM',\n       'ADBE', 'ADP', 'AES', 'AFL', 'A', 'ABNB', 'APD', 'AKAM', 'ALK',\n       'ALB', 'ARE', 'ALGN', 'ALLE', 'LNT', 'ALL', 'GOOGL', 'GOOG', 'MO',\n       'AMZN', 'AMCR', 'AMD', 'AEE', 'AAL', 'AEP', 'AXP', 'AIG', 'AMT',\n       'AWK', 'AMP', 'AME', 'AMGN', 'APH', 'ADI', 'ANSS', 'AON', 'APA',\n       'AAPL', 'AMAT', 'APTV', 'ACGL', 'ANET', 'AJG', 'AIZ', 'T', 'ATO',\n       'ADSK', 'AZO', 'AVB', 'AVY', 'AXON', 'BKR', 'BALL', 'BAC', 'BBWI',\n       'BAX', 'BDX', 'WRB', 'BBY', 'BIO', 'TECH', 'BIIB', 'BLK', 'BX',\n       'BK', 'BA', 'BKNG', 'BWA', 'BXP', 'BSX', 'BMY', 'AVGO', 'BR',\n       'BRO', 'BG', 'CHRW', 'CDNS', 'CZR', 'CPT', 'CPB', 'COF', 'CAH',\n       'KMX', 'CCL', 'CARR', 'CTLT', 'CAT', 'CBOE', 'CBRE', 'CDW', 'CE',\n       'COR', 'CNC', 'CNP', 'CDAY', 'CF', 'CRL', 'SCHW', 'CHTR', 'CVX',\n       'CMG', 'CB', 'CHD', 'CI', 'CINF', 'CTAS', 'CSCO', 'C', 'CFG',\n       'CLX', 'CME', 'CMS', 'KO', 'CTSH', 'CL', 'CMCSA', 'CMA', 'CAG',\n       'COP', 'ED', 'STZ', 'CEG', 'COO', 'CPRT', 'GLW', 'CTVA', 'CSGP',\n       'COST', 'CTRA', 'CCI', 'CSX', 'CMI', 'CVS', 'DHI', 'DHR', 'DRI',\n       'DVA', 'DE', 'DAL', 'XRAY', 'DVN', 'DXCM', 'FANG', 'DLR', 'DFS',\n       'DIS', 'DG', 'DLTR', 'D', 'DPZ', 'DOV', 'DOW', 'DTE', 'DUK', 'DD',\n       'EMN', 'ETN', 'EBAY', 'ECL', 'EIX', 'EW', 'EA', 'ELV', 'LLY',\n       'EMR', 'ENPH', 'ETR', 'EOG', 'EPAM', 'EQT', 'EFX', 'EQIX', 'EQR',\n       'ESS', 'EL', 'ETSY', 'EG', 'EVRG', 'ES', 'EXC', 'EXPE', 'EXPD',\n       'EXR', 'XOM', 'FFIV', 'FDS', 'FICO', 'FAST', 'FRT', 'FDX', 'FITB',\n       'FSLR', 'FE', 'FIS', 'FI', 'FLT', 'FMC', 'F', 'FTNT', 'FTV',\n       'FOXA', 'FOX', 'BEN', 'FCX', 'GRMN', 'IT', 'GEHC', 'GEN', 'GNRC',\n       'GD', 'GE', 'GIS', 'GM', 'GPC', 'GILD', 'GL', 'GPN', 'GS', 'HAL',\n       'HIG', 'HAS', 'HCA', 'PEAK', 'HSIC', 'HSY', 'HES', 'HPE', 'HLT',\n       'HOLX', 'HD', 'HON', 'HRL', 'HST', 'HWM', 'HPQ', 'HUM', 'HBAN',\n       'HII', 'IEX', 'IDXX', 'ITW', 'ILMN', 'INCY', 'IR', 'PODD', 'INTC',\n       'ICE', 'IFF', 'IP', 'IPG', 'INTU', 'ISRG', 'IVZ', 'INVH', 'IQV',\n       'IRM', 'JBHT', 'JKHY', 'J', 'JNJ', 'JCI', 'JPM', 'JNPR', 'K',\n       'KVUE', 'KDP', 'KEY', 'KEYS', 'KMB', 'KIM', 'KMI', 'KLAC', 'KHC',\n       'KR', 'LHX', 'LH', 'LRCX', 'LW', 'LVS', 'LDOS', 'LEN', 'LIN',\n       'LYV', 'LKQ', 'LMT', 'L', 'LOW', 'LYB', 'MTB', 'MRO', 'MPC',\n       'MKTX', 'MAR', 'MMC', 'MLM', 'MAS', 'MA', 'MTCH', 'MKC', 'MCD',\n       'MCK', 'MDT', 'MRK', 'META', 'MET', 'MTD', 'MGM', 'MCHP', 'MU',\n       'MSFT', 'MAA', 'MRNA', 'MHK', 'MOH', 'TAP', 'MDLZ', 'MPWR', 'MNST',\n       'MCO', 'MS', 'MOS', 'MSI', 'MSCI', 'NDAQ', 'NTAP', 'NFLX', 'NEM',\n       'NWSA', 'NWS', 'NEE', 'NKE', 'NI', 'NDSN', 'NSC', 'NTRS', 'NOC',\n       'NCLH', 'NRG', 'NUE', 'NVDA', 'NVR', 'NXPI', 'ORLY', 'OXY', 'ODFL',\n       'OMC', 'ON', 'OKE', 'ORCL', 'OGN', 'OTIS', 'PCAR', 'PKG', 'PANW',\n       'PARA', 'PH', 'PAYX', 'PAYC', 'PYPL', 'PNR', 'PEP', 'PFE', 'PCG',\n       'PM', 'PSX', 'PNW', 'PXD', 'PNC', 'POOL', 'PPG', 'PPL', 'PFG',\n       'PG', 'PGR', 'PLD', 'PRU', 'PEG', 'PTC', 'PSA', 'PHM', 'QRVO',\n       'PWR', 'QCOM', 'DGX', 'RL', 'RJF', 'RTX', 'O', 'REG', 'REGN', 'RF',\n       'RSG', 'RMD', 'RVTY', 'RHI', 'ROK', 'ROL', 'ROP', 'ROST', 'RCL',\n       'SPGI', 'CRM', 'SBAC', 'SLB', 'STX', 'SEE', 'SRE', 'NOW', 'SHW',\n       'SPG', 'SWKS', 'SJM', 'SNA', 'SEDG', 'SO', 'LUV', 'SWK', 'SBUX',\n       'STT', 'STLD', 'STE', 'SYK', 'SYF', 'SNPS', 'SYY', 'TMUS', 'TROW',\n       'TTWO', 'TPR', 'TRGP', 'TGT', 'TEL', 'TDY', 'TFX', 'TER', 'TSLA',\n       'TXN', 'TXT', 'TMO', 'TJX', 'TSCO', 'TT', 'TDG', 'TRV', 'TRMB',\n       'TFC', 'TYL', 'TSN', 'USB', 'UDR', 'ULTA', 'UNP', 'UAL', 'UPS',\n       'URI', 'UNH', 'UHS', 'VLO', 'VTR', 'VRSN', 'VRSK', 'VZ', 'VRTX',\n       'VFC', 'VTRS', 'VICI', 'V', 'VMC', 'WAB', 'WBA', 'WMT', 'WBD',\n       'WM', 'WAT', 'WEC', 'WFC', 'WELL', 'WST', 'WDC', 'WRK', 'WY',\n       'WHR', 'WMB', 'WTW', 'GWW', 'WYNN', 'XEL', 'XYL', 'YUM', 'ZBRA',\n       'ZBH', 'ZION', 'ZTS'], dtype=object)"
     },
     "execution_count": 12,
     "metadata": {},
     "output_type": "execute_result"
    }
   ],
   "source": [
    "tickers = merged_data['Ticker'].unique()\n",
    "tickers"
   ],
   "metadata": {
    "collapsed": false
   }
  },
  {
   "cell_type": "code",
   "execution_count": 23,
   "outputs": [
    {
     "data": {
      "text/plain": "['IBM',\n 'FED',\n 'MMM',\n 'AOS',\n 'ABT',\n 'ABBV',\n 'ACN',\n 'ATVI',\n 'ADM',\n 'ADBE',\n 'ADP',\n 'AES',\n 'AFL',\n 'A',\n 'ABNB',\n 'APD',\n 'AKAM',\n 'ALK',\n 'ALB',\n 'ARE',\n 'ALGN',\n 'ALLE',\n 'LNT',\n 'ALL',\n 'GOOGL',\n 'GOOG',\n 'MO',\n 'AMZN',\n 'AMCR',\n 'AMD',\n 'AEE',\n 'AAL',\n 'AEP',\n 'AXP',\n 'AIG',\n 'AMT',\n 'AWK',\n 'AMP',\n 'AME',\n 'AMGN',\n 'APH',\n 'ADI',\n 'ANSS',\n 'AON',\n 'APA',\n 'AAPL',\n 'AMAT',\n 'APTV',\n 'ACGL',\n 'ANET',\n 'AJG',\n 'AIZ',\n 'T',\n 'ATO',\n 'ADSK',\n 'AZO',\n 'AVB',\n 'AVY',\n 'AXON',\n 'BKR',\n 'BALL',\n 'BAC',\n 'BBWI',\n 'BAX',\n 'BDX',\n 'WRB',\n 'BBY',\n 'BIO',\n 'TECH',\n 'BIIB',\n 'BLK',\n 'BX',\n 'BK',\n 'BA',\n 'BKNG',\n 'BWA',\n 'BXP',\n 'BSX',\n 'BMY',\n 'AVGO',\n 'BR',\n 'BRO',\n 'BG',\n 'CHRW',\n 'CDNS',\n 'CZR',\n 'CPT',\n 'CPB',\n 'COF',\n 'CAH',\n 'KMX',\n 'CCL',\n 'CARR',\n 'CTLT',\n 'CAT',\n 'CBOE',\n 'CBRE',\n 'CDW',\n 'CE',\n 'COR',\n 'CNC',\n 'CNP',\n 'CDAY',\n 'CF',\n 'CRL',\n 'SCHW',\n 'CHTR',\n 'CVX',\n 'CMG',\n 'CB',\n 'CHD',\n 'CI',\n 'CINF',\n 'CTAS',\n 'CSCO',\n 'C',\n 'CFG',\n 'CLX',\n 'CME',\n 'CMS',\n 'KO',\n 'CTSH',\n 'CL',\n 'CMCSA',\n 'CMA',\n 'CAG',\n 'COP',\n 'ED',\n 'STZ',\n 'CEG',\n 'COO',\n 'CPRT',\n 'GLW',\n 'CTVA',\n 'CSGP',\n 'COST',\n 'CTRA',\n 'CCI',\n 'CSX',\n 'CMI',\n 'CVS',\n 'DHI',\n 'DHR',\n 'DRI',\n 'DVA',\n 'DE',\n 'DAL',\n 'XRAY',\n 'DVN',\n 'DXCM',\n 'FANG',\n 'DLR',\n 'DFS',\n 'DIS',\n 'DG',\n 'DLTR',\n 'D',\n 'DPZ',\n 'DOV',\n 'DOW',\n 'DTE',\n 'DUK',\n 'DD',\n 'EMN',\n 'ETN',\n 'EBAY',\n 'ECL',\n 'EIX',\n 'EW',\n 'EA',\n 'ELV',\n 'LLY',\n 'EMR',\n 'ENPH',\n 'ETR',\n 'EOG',\n 'EPAM',\n 'EQT',\n 'EFX',\n 'EQIX',\n 'EQR',\n 'ESS',\n 'EL',\n 'ETSY',\n 'EG',\n 'EVRG',\n 'ES',\n 'EXC',\n 'EXPE',\n 'EXPD',\n 'EXR',\n 'XOM',\n 'FFIV',\n 'FDS',\n 'FICO',\n 'FAST',\n 'FRT',\n 'FDX',\n 'FITB',\n 'FSLR',\n 'FE',\n 'FIS',\n 'FI',\n 'FLT',\n 'FMC',\n 'F',\n 'FTNT',\n 'FTV',\n 'FOXA',\n 'FOX',\n 'BEN',\n 'FCX',\n 'GRMN',\n 'IT',\n 'GEHC',\n 'GEN',\n 'GNRC',\n 'GD',\n 'GE',\n 'GIS',\n 'GM',\n 'GPC',\n 'GILD',\n 'GL',\n 'GPN',\n 'GS',\n 'HAL',\n 'HIG',\n 'HAS',\n 'HCA',\n 'PEAK',\n 'HSIC',\n 'HSY',\n 'HES',\n 'HPE',\n 'HLT',\n 'HOLX',\n 'HD',\n 'HON',\n 'HRL',\n 'HST',\n 'HWM',\n 'HPQ',\n 'HUM',\n 'HBAN',\n 'HII',\n 'IEX',\n 'IDXX',\n 'ITW',\n 'ILMN',\n 'INCY',\n 'IR',\n 'PODD',\n 'INTC',\n 'ICE',\n 'IFF',\n 'IP',\n 'IPG',\n 'INTU',\n 'ISRG',\n 'IVZ',\n 'INVH',\n 'IQV',\n 'IRM',\n 'JBHT',\n 'JKHY',\n 'J',\n 'JNJ',\n 'JCI',\n 'JPM',\n 'JNPR',\n 'K',\n 'KVUE',\n 'KDP',\n 'KEY',\n 'KEYS',\n 'KMB',\n 'KIM',\n 'KMI',\n 'KLAC',\n 'KHC',\n 'KR',\n 'LHX',\n 'LH',\n 'LRCX',\n 'LW',\n 'LVS',\n 'LDOS',\n 'LEN',\n 'LIN',\n 'LYV',\n 'LKQ',\n 'LMT',\n 'L',\n 'LOW',\n 'LYB',\n 'MTB',\n 'MRO',\n 'MPC',\n 'MKTX',\n 'MAR',\n 'MMC',\n 'MLM',\n 'MAS',\n 'MA',\n 'MTCH',\n 'MKC',\n 'MCD',\n 'MCK',\n 'MDT',\n 'MRK',\n 'META',\n 'MET',\n 'MTD',\n 'MGM',\n 'MCHP',\n 'MU',\n 'MSFT',\n 'MAA',\n 'MRNA',\n 'MHK',\n 'MOH',\n 'TAP',\n 'MDLZ',\n 'MPWR',\n 'MNST',\n 'MCO',\n 'MS',\n 'MOS',\n 'MSI',\n 'MSCI',\n 'NDAQ',\n 'NTAP',\n 'NFLX',\n 'NEM',\n 'NWSA',\n 'NWS',\n 'NEE',\n 'NKE',\n 'NI',\n 'NDSN',\n 'NSC',\n 'NTRS',\n 'NOC',\n 'NCLH',\n 'NRG',\n 'NUE',\n 'NVDA',\n 'NVR',\n 'NXPI',\n 'ORLY',\n 'OXY',\n 'ODFL',\n 'OMC',\n 'ON',\n 'OKE',\n 'ORCL',\n 'OGN',\n 'OTIS',\n 'PCAR',\n 'PKG',\n 'PANW',\n 'PARA',\n 'PH',\n 'PAYX',\n 'PAYC',\n 'PYPL',\n 'PNR',\n 'PEP',\n 'PFE',\n 'PCG',\n 'PM',\n 'PSX',\n 'PNW',\n 'PXD',\n 'PNC',\n 'POOL',\n 'PPG',\n 'PPL',\n 'PFG',\n 'PG',\n 'PGR',\n 'PLD',\n 'PRU',\n 'PEG',\n 'PTC',\n 'PSA',\n 'PHM',\n 'QRVO',\n 'PWR',\n 'QCOM',\n 'DGX',\n 'RL',\n 'RJF',\n 'RTX',\n 'O',\n 'REG',\n 'REGN',\n 'RF',\n 'RSG',\n 'RMD',\n 'RVTY',\n 'RHI',\n 'ROK',\n 'ROL',\n 'ROP',\n 'ROST',\n 'RCL',\n 'SPGI',\n 'CRM',\n 'SBAC',\n 'SLB',\n 'STX',\n 'SEE',\n 'SRE',\n 'NOW',\n 'SHW',\n 'SPG',\n 'SWKS',\n 'SJM',\n 'SNA',\n 'SEDG',\n 'SO',\n 'LUV',\n 'SWK',\n 'SBUX',\n 'STT',\n 'STLD',\n 'STE',\n 'SYK',\n 'SYF',\n 'SNPS',\n 'SYY',\n 'TMUS',\n 'TROW',\n 'TTWO',\n 'TPR',\n 'TRGP',\n 'TGT',\n 'TEL',\n 'TDY',\n 'TFX',\n 'TER',\n 'TSLA',\n 'TXN',\n 'TXT',\n 'TMO',\n 'TJX',\n 'TSCO',\n 'TT',\n 'TDG',\n 'TRV',\n 'TRMB',\n 'TFC',\n 'TYL',\n 'TSN',\n 'USB',\n 'UDR',\n 'ULTA',\n 'UNP',\n 'UAL',\n 'UPS',\n 'URI',\n 'UNH',\n 'UHS',\n 'VLO',\n 'VTR',\n 'VRSN',\n 'VRSK',\n 'VZ',\n 'VRTX',\n 'VFC',\n 'VTRS',\n 'VICI',\n 'V',\n 'VMC',\n 'WAB',\n 'WBA',\n 'WMT',\n 'WBD',\n 'WM',\n 'WAT',\n 'WEC',\n 'WFC',\n 'WELL',\n 'WST',\n 'WDC',\n 'WRK',\n 'WY',\n 'WHR',\n 'WMB',\n 'WTW',\n 'GWW',\n 'WYNN',\n 'XEL',\n 'XYL',\n 'YUM',\n 'ZBRA',\n 'ZBH',\n 'ZION',\n 'ZTS']"
     },
     "execution_count": 23,
     "metadata": {},
     "output_type": "execute_result"
    }
   ],
   "source": [
    "list(tickers)"
   ],
   "metadata": {
    "collapsed": false
   }
  },
  {
   "cell_type": "code",
   "execution_count": 5,
   "outputs": [
    {
     "data": {
      "text/plain": "           Ticker       Price      Volume\nDate                                     \n2000-01-03    IBM   61.718239  10823694.0\n2000-01-04    IBM   59.623302   8606279.0\n2000-01-05    IBM   61.718239  13318927.0\n2000-01-06    IBM   60.654163   8338607.0\n2000-01-07    IBM   60.388134  12402108.0\n...           ...         ...         ...\n2023-06-23    ZTS  168.000519   2412100.0\n2023-06-26    ZTS  167.172348   1729200.0\n2023-06-27    ZTS  170.295486   1452300.0\n2023-06-28    ZTS  168.728928   1686800.0\n2023-06-29    ZTS  171.492844   1429000.0\n\n[2960910 rows x 3 columns]",
      "text/html": "<div>\n<style scoped>\n    .dataframe tbody tr th:only-of-type {\n        vertical-align: middle;\n    }\n\n    .dataframe tbody tr th {\n        vertical-align: top;\n    }\n\n    .dataframe thead th {\n        text-align: right;\n    }\n</style>\n<table border=\"1\" class=\"dataframe\">\n  <thead>\n    <tr style=\"text-align: right;\">\n      <th></th>\n      <th>Ticker</th>\n      <th>Price</th>\n      <th>Volume</th>\n    </tr>\n    <tr>\n      <th>Date</th>\n      <th></th>\n      <th></th>\n      <th></th>\n    </tr>\n  </thead>\n  <tbody>\n    <tr>\n      <th>2000-01-03</th>\n      <td>IBM</td>\n      <td>61.718239</td>\n      <td>10823694.0</td>\n    </tr>\n    <tr>\n      <th>2000-01-04</th>\n      <td>IBM</td>\n      <td>59.623302</td>\n      <td>8606279.0</td>\n    </tr>\n    <tr>\n      <th>2000-01-05</th>\n      <td>IBM</td>\n      <td>61.718239</td>\n      <td>13318927.0</td>\n    </tr>\n    <tr>\n      <th>2000-01-06</th>\n      <td>IBM</td>\n      <td>60.654163</td>\n      <td>8338607.0</td>\n    </tr>\n    <tr>\n      <th>2000-01-07</th>\n      <td>IBM</td>\n      <td>60.388134</td>\n      <td>12402108.0</td>\n    </tr>\n    <tr>\n      <th>...</th>\n      <td>...</td>\n      <td>...</td>\n      <td>...</td>\n    </tr>\n    <tr>\n      <th>2023-06-23</th>\n      <td>ZTS</td>\n      <td>168.000519</td>\n      <td>2412100.0</td>\n    </tr>\n    <tr>\n      <th>2023-06-26</th>\n      <td>ZTS</td>\n      <td>167.172348</td>\n      <td>1729200.0</td>\n    </tr>\n    <tr>\n      <th>2023-06-27</th>\n      <td>ZTS</td>\n      <td>170.295486</td>\n      <td>1452300.0</td>\n    </tr>\n    <tr>\n      <th>2023-06-28</th>\n      <td>ZTS</td>\n      <td>168.728928</td>\n      <td>1686800.0</td>\n    </tr>\n    <tr>\n      <th>2023-06-29</th>\n      <td>ZTS</td>\n      <td>171.492844</td>\n      <td>1429000.0</td>\n    </tr>\n  </tbody>\n</table>\n<p>2960910 rows × 3 columns</p>\n</div>"
     },
     "execution_count": 5,
     "metadata": {},
     "output_type": "execute_result"
    }
   ],
   "source": [
    "merged_data"
   ],
   "metadata": {
    "collapsed": false
   }
  },
  {
   "cell_type": "code",
   "execution_count": 6,
   "outputs": [
    {
     "data": {
      "text/plain": "           Ticker     Price  Volume\nDate                               \n2000-01-03    FED  0.000210     0.0\n2000-01-04    FED  0.000208     0.0\n2000-01-05    FED  0.000209     0.0\n2000-01-06    FED  0.000214     0.0\n2000-01-07    FED  0.000217     0.0\n...           ...       ...     ...\n2023-06-23    FED       NaN     0.0\n2023-06-26    FED       NaN     0.0\n2023-06-27    FED       NaN     0.0\n2023-06-28    FED       NaN     0.0\n2023-06-29    FED       NaN     0.0\n\n[5910 rows x 3 columns]",
      "text/html": "<div>\n<style scoped>\n    .dataframe tbody tr th:only-of-type {\n        vertical-align: middle;\n    }\n\n    .dataframe tbody tr th {\n        vertical-align: top;\n    }\n\n    .dataframe thead th {\n        text-align: right;\n    }\n</style>\n<table border=\"1\" class=\"dataframe\">\n  <thead>\n    <tr style=\"text-align: right;\">\n      <th></th>\n      <th>Ticker</th>\n      <th>Price</th>\n      <th>Volume</th>\n    </tr>\n    <tr>\n      <th>Date</th>\n      <th></th>\n      <th></th>\n      <th></th>\n    </tr>\n  </thead>\n  <tbody>\n    <tr>\n      <th>2000-01-03</th>\n      <td>FED</td>\n      <td>0.000210</td>\n      <td>0.0</td>\n    </tr>\n    <tr>\n      <th>2000-01-04</th>\n      <td>FED</td>\n      <td>0.000208</td>\n      <td>0.0</td>\n    </tr>\n    <tr>\n      <th>2000-01-05</th>\n      <td>FED</td>\n      <td>0.000209</td>\n      <td>0.0</td>\n    </tr>\n    <tr>\n      <th>2000-01-06</th>\n      <td>FED</td>\n      <td>0.000214</td>\n      <td>0.0</td>\n    </tr>\n    <tr>\n      <th>2000-01-07</th>\n      <td>FED</td>\n      <td>0.000217</td>\n      <td>0.0</td>\n    </tr>\n    <tr>\n      <th>...</th>\n      <td>...</td>\n      <td>...</td>\n      <td>...</td>\n    </tr>\n    <tr>\n      <th>2023-06-23</th>\n      <td>FED</td>\n      <td>NaN</td>\n      <td>0.0</td>\n    </tr>\n    <tr>\n      <th>2023-06-26</th>\n      <td>FED</td>\n      <td>NaN</td>\n      <td>0.0</td>\n    </tr>\n    <tr>\n      <th>2023-06-27</th>\n      <td>FED</td>\n      <td>NaN</td>\n      <td>0.0</td>\n    </tr>\n    <tr>\n      <th>2023-06-28</th>\n      <td>FED</td>\n      <td>NaN</td>\n      <td>0.0</td>\n    </tr>\n    <tr>\n      <th>2023-06-29</th>\n      <td>FED</td>\n      <td>NaN</td>\n      <td>0.0</td>\n    </tr>\n  </tbody>\n</table>\n<p>5910 rows × 3 columns</p>\n</div>"
     },
     "execution_count": 6,
     "metadata": {},
     "output_type": "execute_result"
    }
   ],
   "source": [
    "# print merged data where ticker is FED\n",
    "merged_data[merged_data[\"Ticker\"] == \"FED\"]"
   ],
   "metadata": {
    "collapsed": false
   }
  },
  {
   "cell_type": "code",
   "execution_count": 7,
   "outputs": [],
   "source": [
    "merged_data.sort_index(inplace=True)"
   ],
   "metadata": {
    "collapsed": false
   }
  },
  {
   "cell_type": "code",
   "execution_count": 8,
   "outputs": [
    {
     "data": {
      "text/plain": "Ticker         0\nPrice     326044\nVolume    325804\ndtype: int64"
     },
     "execution_count": 8,
     "metadata": {},
     "output_type": "execute_result"
    }
   ],
   "source": [
    "# count missing values in each column\n",
    "merged_data.isna().sum()"
   ],
   "metadata": {
    "collapsed": false
   }
  },
  {
   "cell_type": "code",
   "execution_count": 9,
   "outputs": [
    {
     "name": "stdout",
     "output_type": "stream",
     "text": [
      "2023-06-29 00:00:00\n"
     ]
    }
   ],
   "source": [
    "# Handle delisted companies\n",
    "end_date = merged_data.index.max()\n",
    "print(end_date)"
   ],
   "metadata": {
    "collapsed": false
   }
  },
  {
   "cell_type": "code",
   "execution_count": 10,
   "outputs": [
    {
     "data": {
      "text/plain": "           Ticker      Price      Volume\nDate                                    \n2000-01-03    BBY  15.775073  19442925.0\n2000-01-04    BBY  15.672631  11525625.0\n2000-01-05    BBY  15.570198  11111625.0\n2000-01-06    BBY  15.433620   5968125.0\n2000-01-07    BBY  15.911648   5736600.0\n...           ...        ...         ...\n2023-06-23    BBY  78.124336   2807600.0\n2023-06-26    BBY  80.365494   2448700.0\n2023-06-27    BBY  81.856300   2568500.0\n2023-06-28    BBY  81.234306   2121700.0\n2023-06-29    BBY  82.152489   1719900.0\n\n[5910 rows x 3 columns]",
      "text/html": "<div>\n<style scoped>\n    .dataframe tbody tr th:only-of-type {\n        vertical-align: middle;\n    }\n\n    .dataframe tbody tr th {\n        vertical-align: top;\n    }\n\n    .dataframe thead th {\n        text-align: right;\n    }\n</style>\n<table border=\"1\" class=\"dataframe\">\n  <thead>\n    <tr style=\"text-align: right;\">\n      <th></th>\n      <th>Ticker</th>\n      <th>Price</th>\n      <th>Volume</th>\n    </tr>\n    <tr>\n      <th>Date</th>\n      <th></th>\n      <th></th>\n      <th></th>\n    </tr>\n  </thead>\n  <tbody>\n    <tr>\n      <th>2000-01-03</th>\n      <td>BBY</td>\n      <td>15.775073</td>\n      <td>19442925.0</td>\n    </tr>\n    <tr>\n      <th>2000-01-04</th>\n      <td>BBY</td>\n      <td>15.672631</td>\n      <td>11525625.0</td>\n    </tr>\n    <tr>\n      <th>2000-01-05</th>\n      <td>BBY</td>\n      <td>15.570198</td>\n      <td>11111625.0</td>\n    </tr>\n    <tr>\n      <th>2000-01-06</th>\n      <td>BBY</td>\n      <td>15.433620</td>\n      <td>5968125.0</td>\n    </tr>\n    <tr>\n      <th>2000-01-07</th>\n      <td>BBY</td>\n      <td>15.911648</td>\n      <td>5736600.0</td>\n    </tr>\n    <tr>\n      <th>...</th>\n      <td>...</td>\n      <td>...</td>\n      <td>...</td>\n    </tr>\n    <tr>\n      <th>2023-06-23</th>\n      <td>BBY</td>\n      <td>78.124336</td>\n      <td>2807600.0</td>\n    </tr>\n    <tr>\n      <th>2023-06-26</th>\n      <td>BBY</td>\n      <td>80.365494</td>\n      <td>2448700.0</td>\n    </tr>\n    <tr>\n      <th>2023-06-27</th>\n      <td>BBY</td>\n      <td>81.856300</td>\n      <td>2568500.0</td>\n    </tr>\n    <tr>\n      <th>2023-06-28</th>\n      <td>BBY</td>\n      <td>81.234306</td>\n      <td>2121700.0</td>\n    </tr>\n    <tr>\n      <th>2023-06-29</th>\n      <td>BBY</td>\n      <td>82.152489</td>\n      <td>1719900.0</td>\n    </tr>\n  </tbody>\n</table>\n<p>5910 rows × 3 columns</p>\n</div>"
     },
     "execution_count": 10,
     "metadata": {},
     "output_type": "execute_result"
    }
   ],
   "source": [
    "# show where ticker is BRK.B\n",
    "merged_data[merged_data[\"Ticker\"] == \"BBY\"]"
   ],
   "metadata": {
    "collapsed": false
   }
  },
  {
   "cell_type": "code",
   "execution_count": 11,
   "outputs": [],
   "source": [
    "# Handle newly listed companies\n",
    "start_date = merged_data.index.min()\n",
    "for ticker in valid_tickers:\n",
    "    ticker_data = merged_data[merged_data[\"Ticker\"] == ticker]\n",
    "    if ticker_data[\"Price\"].head(1).isna().values[0]:\n",
    "        first_non_nan_date = ticker_data[\"Price\"].first_valid_index()\n",
    "        condition = (merged_data[\"Ticker\"] == ticker) & (merged_data.index < first_non_nan_date)\n",
    "        merged_data.loc[condition, [\"Price\", \"Volume\"]] = -6666.6666\n",
    "\n",
    "# Handle delisted companies\n",
    "end_date = merged_data.index.max()\n",
    "for ticker in valid_tickers:\n",
    "    ticker_data = merged_data[merged_data[\"Ticker\"] == ticker]\n",
    "    if ticker_data[\"Price\"].tail(1).isna().values[0]:\n",
    "        last_non_nan_date = ticker_data[\"Price\"].last_valid_index()\n",
    "        condition = (merged_data[\"Ticker\"] == ticker) & (merged_data.index > last_non_nan_date)\n",
    "        merged_data.loc[condition, [\"Price\", \"Volume\"]] = -5555.5555"
   ],
   "metadata": {
    "collapsed": false
   }
  },
  {
   "cell_type": "code",
   "execution_count": null,
   "outputs": [],
   "source": [
    "merged_data.index.unique"
   ],
   "metadata": {
    "collapsed": false
   }
  },
  {
   "cell_type": "code",
   "execution_count": 14,
   "outputs": [
    {
     "ename": "ValueError",
     "evalue": "The truth value of an array with more than one element is ambiguous. Use a.any() or a.all()",
     "output_type": "error",
     "traceback": [
      "\u001B[1;31m---------------------------------------------------------------------------\u001B[0m",
      "\u001B[1;31mValueError\u001B[0m                                Traceback (most recent call last)",
      "Cell \u001B[1;32mIn[14], line 10\u001B[0m\n\u001B[0;32m      7\u001B[0m         \u001B[38;5;66;03m# Remove ticker from valid_tickers\u001B[39;00m\n\u001B[0;32m      8\u001B[0m         valid_tickers\u001B[38;5;241m.\u001B[39mremove(ticker)\n\u001B[1;32m---> 10\u001B[0m \u001B[38;5;28;01massert\u001B[39;00m \u001B[43mmerged_data\u001B[49m\u001B[38;5;241;43m.\u001B[39;49m\u001B[43mindex\u001B[49m\u001B[38;5;241;43m.\u001B[39;49m\u001B[43munique\u001B[49m\u001B[43m(\u001B[49m\u001B[43m)\u001B[49m\u001B[43m \u001B[49m\u001B[38;5;241;43m==\u001B[39;49m\u001B[43m \u001B[49m\u001B[43mref_df\u001B[49m\u001B[38;5;241;43m.\u001B[39;49m\u001B[43mindex\u001B[49m\u001B[38;5;241;43m.\u001B[39;49m\u001B[43munique\u001B[49m\u001B[43m(\u001B[49m\u001B[43m)\u001B[49m\n",
      "\u001B[1;31mValueError\u001B[0m: The truth value of an array with more than one element is ambiguous. Use a.any() or a.all()"
     ]
    }
   ],
   "source": [
    "# Remove tickers with over 1% missing values, per ticker -> we need the number of unique dates per ticker\n",
    "threshold = 0.01 * len(merged_data.index.unique())\n",
    "for ticker in valid_tickers:\n",
    "    ticker_data = merged_data[merged_data[\"Ticker\"] == ticker]\n",
    "    if ticker_data[\"Price\"].isna().sum() > threshold:\n",
    "        merged_data = merged_data[merged_data[\"Ticker\"] != ticker]\n",
    "        # Remove ticker from valid_tickers\n",
    "        valid_tickers.remove(ticker)"
   ],
   "metadata": {
    "collapsed": false
   }
  },
  {
   "cell_type": "code",
   "execution_count": 21,
   "outputs": [
    {
     "data": {
      "text/plain": "array([ True,  True,  True, ...,  True,  True,  True])"
     },
     "execution_count": 21,
     "metadata": {},
     "output_type": "execute_result"
    }
   ],
   "source": [
    "assert (merged_data.index.unique().values == ref_df.index.unique().values).all()"
   ],
   "metadata": {
    "collapsed": false
   }
  },
  {
   "cell_type": "code",
   "execution_count": 22,
   "outputs": [],
   "source": [
    "# make sure that the data is sorted by date and ticker\n",
    "merged_data.sort_values(by=[\"Date\", \"Ticker\"], inplace=True)\n",
    "\n",
    "# Forward fill NaN values, per ticker, make sure not to spill over to other tickers\n",
    "for ticker in valid_tickers:\n",
    "    ticker_data = merged_data[merged_data[\"Ticker\"] == ticker].copy()\n",
    "    ticker_data.ffill(inplace=True)\n",
    "    merged_data.loc[merged_data[\"Ticker\"] == ticker] = ticker_data"
   ],
   "metadata": {
    "collapsed": false
   }
  },
  {
   "cell_type": "code",
   "execution_count": 32,
   "outputs": [],
   "source": [
    "# replace the -6666.6666 and -5555.5555 values with NaN\n",
    "merged_data.replace(-6666.6666, np.nan, inplace=True)\n",
    "merged_data.replace(-5555.5555, np.nan, inplace=True)"
   ],
   "metadata": {
    "collapsed": false
   }
  },
  {
   "cell_type": "code",
   "execution_count": 24,
   "outputs": [],
   "source": [
    "# Ensure DataFrame is sorted\n",
    "merged_data.sort_values(by=[\"Date\", \"Ticker\"], inplace=True)\n",
    "\n",
    "# Save the DataFrame\n",
    "merged_data.to_csv(os.path.join(\"data\", \"data.csv\"))"
   ],
   "metadata": {
    "collapsed": false
   }
  },
  {
   "cell_type": "code",
   "execution_count": 28,
   "outputs": [],
   "source": [
    "# assert that unique values in the \"Ticker\" column are the same as valid_tickers (sorted)\n",
    "assert merged_data[\"Ticker\"].unique().tolist().sort() == valid_tickers.sort()\n",
    "\n",
    "from utils.data_object import InvestmentData\n",
    "# Create the InvestmentData object\n",
    "investment_data_obj = InvestmentData(merged_data)\n",
    "\n",
    "# Save the InvestmentData object\n",
    "investment_data_obj.save()"
   ],
   "metadata": {
    "collapsed": false
   }
  },
  {
   "cell_type": "code",
   "execution_count": null,
   "outputs": [],
   "source": [],
   "metadata": {
    "collapsed": false
   }
  },
  {
   "cell_type": "code",
   "execution_count": 31,
   "outputs": [
    {
     "name": "stdout",
     "output_type": "stream",
     "text": [
      "  Symbol     Security             GICS Sector               GICS Sub-Industry  \\\n",
      "0    MMM           3M             Industrials        Industrial Conglomerates   \n",
      "1    AOS  A. O. Smith             Industrials               Building Products   \n",
      "2    ABT       Abbott             Health Care           Health Care Equipment   \n",
      "3   ABBV       AbbVie             Health Care                 Pharmaceuticals   \n",
      "4    ACN    Accenture  Information Technology  IT Consulting & Other Services   \n",
      "\n",
      "     Headquarters Location  Date added      CIK      Founded  \n",
      "0    Saint Paul, Minnesota  1957-03-04    66740         1902  \n",
      "1     Milwaukee, Wisconsin  2017-07-26    91142         1916  \n",
      "2  North Chicago, Illinois  1957-03-04     1800         1888  \n",
      "3  North Chicago, Illinois  2012-12-31  1551152  2013 (1888)  \n",
      "4          Dublin, Ireland  2011-07-06  1467373         1989  \n"
     ]
    }
   ],
   "source": [
    "table = pd.read_html('https://en.wikipedia.org/wiki/List_of_S%26P_500_companies')\n",
    "df = table[0]\n",
    "# only keep the rows where symbol is in the list of tickers\n",
    "df = df[df['Symbol'].isin(tickers)]"
   ],
   "metadata": {
    "collapsed": false
   }
  },
  {
   "cell_type": "code",
   "execution_count": 30,
   "outputs": [
    {
     "data": {
      "text/plain": "[    Symbol              Security             GICS Sector  \\\n 0      MMM                    3M             Industrials   \n 1      AOS           A. O. Smith             Industrials   \n 2      ABT                Abbott             Health Care   \n 3     ABBV                AbbVie             Health Care   \n 4      ACN             Accenture  Information Technology   \n ..     ...                   ...                     ...   \n 498    YUM           Yum! Brands  Consumer Discretionary   \n 499   ZBRA    Zebra Technologies  Information Technology   \n 500    ZBH         Zimmer Biomet             Health Care   \n 501   ZION  Zions Bancorporation              Financials   \n 502    ZTS                Zoetis             Health Care   \n \n                       GICS Sub-Industry    Headquarters Location  Date added  \\\n 0              Industrial Conglomerates    Saint Paul, Minnesota  1957-03-04   \n 1                     Building Products     Milwaukee, Wisconsin  2017-07-26   \n 2                 Health Care Equipment  North Chicago, Illinois  1957-03-04   \n 3                       Pharmaceuticals  North Chicago, Illinois  2012-12-31   \n 4        IT Consulting & Other Services          Dublin, Ireland  2011-07-06   \n ..                                  ...                      ...         ...   \n 498                         Restaurants     Louisville, Kentucky  1997-10-06   \n 499  Electronic Equipment & Instruments   Lincolnshire, Illinois  2019-12-23   \n 500               Health Care Equipment          Warsaw, Indiana  2001-08-07   \n 501                      Regional Banks     Salt Lake City, Utah  2001-06-22   \n 502                     Pharmaceuticals   Parsippany, New Jersey  2013-06-21   \n \n          CIK      Founded  \n 0      66740         1902  \n 1      91142         1916  \n 2       1800         1888  \n 3    1551152  2013 (1888)  \n 4    1467373         1989  \n ..       ...          ...  \n 498  1041061         1997  \n 499   877212         1969  \n 500  1136869         1927  \n 501   109380         1873  \n 502  1555280         1952  \n \n [503 rows x 8 columns],\n                    Date  Added                                Removed  \\\n                    Date Ticker                       Security  Ticker   \n 0       October 3, 2023    NaN                            NaN     DXC   \n 1       October 2, 2023   VLTO                        Veralto     NaN   \n 2    September 18, 2023     BX                     Blackstone     LNC   \n 3    September 18, 2023   ABNB                         Airbnb     NWL   \n 4       August 25, 2023   KVUE                         Kenvue     AAP   \n ..                  ...    ...                            ...     ...   \n 327        June 9, 1999    WLP                      Wellpoint     HPH   \n 328   December 11, 1998    FSR                        Firstar     LDW   \n 329   December 11, 1998    CCL                 Carnival Corp.     GRN   \n 330   December 11, 1998   CPWR                      Compuware     SUN   \n 331       June 17, 1997    CCI  Countrywide Credit Industries     USL   \n \n                                \\\n                      Security   \n 0              DXC Technology   \n 1                         NaN   \n 2       Lincoln National Corp   \n 3           Newell Brands Inc   \n 4          Advance Auto Parts   \n ..                        ...   \n 327  Harnischfeger Industries   \n 328                     Amoco   \n 329                General Re   \n 330                SunAmerica   \n 331                    USLife   \n \n                                                 Reason  \n                                                 Reason  \n 0                     Market capitalization change.[4]  \n 1    S&P 500 and S&P 100 constituent Danaher Corpor...  \n 2                     Market capitalization change.[5]  \n 3                     Market capitalization change.[5]  \n 4    S&P 500 and S&P 100 constituent Johnson & John...  \n ..                                                 ...  \n 327           Harnischfeger filed for bankruptcy.[250]  \n 328            British Petroleum purchased Amoco.[251]  \n 329      Berkshire Hathaway purchased General Re.[251]  \n 330                     AIG purchased SunAmerica.[251]  \n 331                          AIG acquired USLife.[252]  \n \n [332 rows x 6 columns]]"
     },
     "execution_count": 30,
     "metadata": {},
     "output_type": "execute_result"
    }
   ],
   "source": [
    "#table"
   ],
   "metadata": {
    "collapsed": false
   }
  },
  {
   "cell_type": "markdown",
   "source": [],
   "metadata": {
    "collapsed": false
   }
  },
  {
   "cell_type": "markdown",
   "source": [
    "great, now let us reconsider the numpy data in the overall context of this repo. the repo is an investment game repo. there is a simulation at the core of this. the simulation is accessing, per time step in the pygame game, the data and calculating the return per period. what do you think is the most efficient way to store this? we need to make sure that it is a numpy array, right? how should the numpy array be designed? i propose 2 primary keys (tikcer and date) and then the values (price and volume). make sure that the np data type is appropriate. for ticker since it is a string, it might make sense to encode the string into numeric. the date should already be encoded as numeric, no? i am not too sure here. when creating the np array, make sure that each dtype is correct! then focus on what is the most appropriate way to store it and access it. i think a class wrapper might come in super handy here. does the wrapper need to be saved as pickle ? i guess right? the wrapper should include mapping dictionaries, to cobmine efficiency with human interpretability allowing me to keep trck and easily access the data later on. reason about all those points, then provide the corresponding code. note that this is stock price and volume data per day and ticker. also, every ticker has a corresponding company name (except for FED which translates to fed rate). conceptually reason abou t what is most appropriate to do. then, implement your solution accordingly"
   ],
   "metadata": {
    "collapsed": false
   }
  },
  {
   "cell_type": "code",
   "execution_count": 8,
   "outputs": [
    {
     "ename": "TypeError",
     "evalue": "'NoneType' object is not subscriptable",
     "output_type": "error",
     "traceback": [
      "\u001B[1;31m---------------------------------------------------------------------------\u001B[0m",
      "\u001B[1;31mTypeError\u001B[0m                                 Traceback (most recent call last)",
      "Cell \u001B[1;32mIn[8], line 12\u001B[0m\n\u001B[0;32m     10\u001B[0m \u001B[38;5;66;03m# Load the data object\u001B[39;00m\n\u001B[0;32m     11\u001B[0m data_obj \u001B[38;5;241m=\u001B[39m InvestmentData(\u001B[38;5;124m\"\u001B[39m\u001B[38;5;124minvestment_data\u001B[39m\u001B[38;5;124m\"\u001B[39m)\n\u001B[1;32m---> 12\u001B[0m \u001B[38;5;28mprint\u001B[39m(\u001B[43mdata_obj\u001B[49m\u001B[38;5;241;43m.\u001B[39;49m\u001B[43mtickers\u001B[49m\u001B[43m[\u001B[49m\u001B[38;5;241;43m0\u001B[39;49m\u001B[43m]\u001B[49m)\n\u001B[0;32m     14\u001B[0m \u001B[38;5;28;01mdef\u001B[39;00m \u001B[38;5;21mtest_data_query\u001B[39m():\n\u001B[0;32m     15\u001B[0m     \u001B[38;5;66;03m# Load tickers\u001B[39;00m\n\u001B[0;32m     16\u001B[0m     tickers \u001B[38;5;241m=\u001B[39m data_obj\u001B[38;5;241m.\u001B[39mtickers\n",
      "\u001B[1;31mTypeError\u001B[0m: 'NoneType' object is not subscriptable"
     ]
    }
   ],
   "source": [
    "import os\n",
    "import random\n",
    "import pandas as pd\n",
    "import numpy as np\n",
    "\n",
    "from utils.data_object import InvestmentData\n",
    "\n",
    "data_path = os.path.join(os.getcwd(), \"data\")\n",
    "\n",
    "# Load the data object\n",
    "data_obj = InvestmentData(\"investment_data\")\n",
    "print(data_obj.tickers[0])\n",
    "\n",
    "def test_data_query():\n",
    "    # Load tickers\n",
    "    tickers = data_obj.tickers\n",
    "\n",
    "    # Iterating randomly X times over tickers and dates\n",
    "    NUM_TICKER_TESTS = 20\n",
    "    NUM_DATE_TESTS = 1000\n",
    "    TOLERANCE = 1e-6\n",
    "\n",
    "    print(tickers)\n",
    "\n",
    "    for _ in range(NUM_TICKER_TESTS):\n",
    "        ticker = random.choice(tickers)\n",
    "\n",
    "        # Load the CSV file using the updated path\n",
    "        df = pd.read_csv(os.path.join(data_path, f\"{ticker}.csv\"), index_col=\"Date\", parse_dates=True)\n",
    "\n",
    "        print(df)\n",
    "\n",
    "        for _ in range(NUM_DATE_TESTS):\n",
    "            date = random.choice(df.index)\n",
    "\n",
    "            # Querying the data object\n",
    "            price_obj, volume_obj = data_obj.query(date, ticker)\n",
    "            price_csv, volume_csv = df.loc[date, [\"Adj Close\", \"Volume\"]]\n",
    "\n",
    "            # Handling NaNs\n",
    "            if pd.isna(price_csv) or pd.isna(volume_obj):\n",
    "                continue\n",
    "\n",
    "            # Assertions with tolerance\n",
    "            assert np.isclose(price_obj, price_csv,\n",
    "                              atol=TOLERANCE), f\"Expected {price_csv}, but got {price_obj} for {ticker} on {date}.\"\n",
    "            assert np.isclose(volume_obj, volume_csv,\n",
    "                              atol=TOLERANCE), f\"Expected {volume_csv}, but got {volume_obj} for {ticker} on {date}.\"\n",
    "\n",
    "if __name__ == \"__main__\":\n",
    "    test_data_query()"
   ],
   "metadata": {
    "collapsed": false
   }
  },
  {
   "cell_type": "code",
   "execution_count": null,
   "outputs": [],
   "source": [],
   "metadata": {
    "collapsed": false
   }
  }
 ],
 "metadata": {
  "kernelspec": {
   "display_name": "Python 3",
   "language": "python",
   "name": "python3"
  },
  "language_info": {
   "codemirror_mode": {
    "name": "ipython",
    "version": 2
   },
   "file_extension": ".py",
   "mimetype": "text/x-python",
   "name": "python",
   "nbconvert_exporter": "python",
   "pygments_lexer": "ipython2",
   "version": "2.7.6"
  }
 },
 "nbformat": 4,
 "nbformat_minor": 0
}
